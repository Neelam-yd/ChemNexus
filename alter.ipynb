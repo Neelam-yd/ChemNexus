{
 "cells": [
  {
   "cell_type": "code",
   "execution_count": 39,
   "metadata": {},
   "outputs": [
    {
     "name": "stdout",
     "output_type": "stream",
     "text": [
      "  Hazardous Chemical Name Hazard Classification            Applications  \\\n",
      "2                 Toluene     Toxic, Neurotoxin  Solvent, paint thinner   \n",
      "\n",
      "              Potential Health Risks           Regulatory Status  \\\n",
      "2  Neurological damage, liver damage  Restricted in many regions   \n",
      "\n",
      "  Substitute Chemical Name        Substitute Benefits Substitute Applications  \\\n",
      "2            Ethyl Acetate  Less toxic, biodegradable        Paints, coatings   \n",
      "\n",
      "  Regulatory Status of Substitute  \\\n",
      "2    Generally recognized as safe   \n",
      "\n",
      "                                               Notes  \n",
      "2  Preferred in environmentally-friendly formulat...  \n"
     ]
    }
   ],
   "source": [
    "import pandas as pd\n",
    "df = pd.read_csv(\"C:\\\\Users\\\\kumar\\\\Downloads\\\\chemical data.csv\")\n",
    "\n",
    "df1 = df[[\"Hazardous Chemical Name\", \"Hazard Classification\", \"Applications\", \"Potential Health Risks\",\"Regulatory Status\",\"Substitute Chemical Name\", \"Substitute Benefits\", \"Substitute Applications\", \"Regulatory Status of Substitute\", \"Notes\"]]\n",
    "df1\n",
    "a = input(\"Enter Chemical Name : \")\n",
    "row_data = df1[df1['Hazardous Chemical Name'] == a]\n",
    "print(row_data)\n",
    "\n",
    "\n"
   ]
  },
  {
   "cell_type": "code",
   "execution_count": null,
   "metadata": {},
   "outputs": [],
   "source": []
  },
  {
   "cell_type": "code",
   "execution_count": null,
   "metadata": {},
   "outputs": [],
   "source": []
  }
 ],
 "metadata": {
  "kernelspec": {
   "display_name": "Python 3",
   "language": "python",
   "name": "python3"
  },
  "language_info": {
   "codemirror_mode": {
    "name": "ipython",
    "version": 3
   },
   "file_extension": ".py",
   "mimetype": "text/x-python",
   "name": "python",
   "nbconvert_exporter": "python",
   "pygments_lexer": "ipython3",
   "version": "3.12.5"
  }
 },
 "nbformat": 4,
 "nbformat_minor": 2
}
